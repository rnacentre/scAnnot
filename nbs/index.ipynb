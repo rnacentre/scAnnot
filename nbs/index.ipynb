{
 "cells": [
  {
   "cell_type": "code",
   "execution_count": null,
   "metadata": {},
   "outputs": [
    {
     "name": "stderr",
     "output_type": "stream",
     "text": [
      "/home/huang_yin/anaconda3/envs/sc/lib/python3.9/site-packages/scvi/__init__.py:31: DeprecationWarning: scvi is deprecated, please uninstall scvi via `pip uninstall scvi` and install the new scvi-tools package at github.com/YosefLab/scvi-tools\n",
      "  warnings.warn(deprecation_msg, DeprecationWarning)\n"
     ]
    }
   ],
   "source": [
    "#| hide\n",
    "from scAnnot.core import *"
   ]
  },
  {
   "cell_type": "markdown",
   "metadata": {},
   "source": [
    "# **scAnnot User Documentation**\n",
    "\n",
    "> scAnnot is a tool for performing hierarchical multi-level annotation of single-cell datasets using pre-trained SCANVI models.\n",
    "> \n",
    "> This document will guide you through the installation process, explain the workflow and the usage of the tool, and provide additional info."
   ]
  },
  {
   "cell_type": "markdown",
   "metadata": {},
   "source": [
    "## Overview\n",
    "\n",
    "scAnnot utilizes pre-trained SCANVI models on a core reference dataset and organized by annotation hierarchy to recursively annotate single-cell datasets at multiple levels (e.g. cell type > subtype). \n",
    "\n",
    "It generates annotated labels by leveraging cell representations learned from the reference dataset. The modular workflow is highly customizable and scalable to large datasets."
   ]
  },
  {
   "cell_type": "markdown",
   "metadata": {},
   "source": [
    "## Installation\n",
    "\n",
    "To install scAnnot, please follow these steps:\n",
    "\n",
    "**Step 1:** Ensure that you have Python 3.7 or higher installed on your system.\n",
    "\n",
    "**Step 2:** Open a terminal or command prompt.\n",
    "\n",
    "**Step 3:** Install scAnnot using pip by executing the following command:\n",
    "\n",
    "```\n",
    "pip install scAnnot\n",
    "```\n",
    "\n",
    "**Step 4:** Once the installation is complete, you can verify it by running the following command:\n",
    "\n",
    "```\n",
    "scAnnot --version\n",
    "```\n",
    "\n",
    "If the installation was successful, the tool's version number will be displayed."
   ]
  },
  {
   "cell_type": "markdown",
   "metadata": {},
   "source": [
    "## Annotation Workflow \n",
    "\n",
    "The main steps in the workflow are:\n",
    "\n",
    "### 1. Data Preprocessing \n",
    "\n",
    "The input AnnData object containing expression values is preprocessed to filter to common genes with a reference dataset and apply optional normalization steps. \n",
    "\n",
    "This is handled by the `preprocess_data()` function.\n",
    "\n",
    "### 2. Model Loading\n",
    "\n",
    "Trained SCANVI models for each annotation level are stored in a directory structure matching the hierarchy of annotations. \n",
    "\n",
    "\n",
    "#### Model Directory Structure\n",
    "\n",
    "The trained models are organized in a directory structure matching the annotation hierarchy.\n",
    "\n",
    "The root `/model.pt` file contains the model for Level 1 (primary cell type) annotation. \n",
    "\n",
    "Subdirectories named for each level cell type contain further nested models:\n",
    "\n",
    "```\n",
    "/root\n",
    "├── model.pt  \n",
    "├── L1_celltype1\n",
    "│   ├── model.pt\n",
    "│   ├── L2_celltype2  \n",
    "│   │   ├── model.pt \n",
    "│   ├── L2_celltype3\n",
    "│       ├── model.pt\n",
    "├── L1_celltype2\n",
    "   ├── model.pt\n",
    "├── L1_celltype3\n",
    "   ├── model.pt\n",
    "```\n",
    "\n",
    "Each subdirectory contains a model for the next annotation level of sub-celltypes specific to that cell type. \n",
    "\n",
    "This organizational structure encodes the annotation schema and enables the recursive modeling approach.\n",
    "\n",
    "### 3. Recursive Annotation\n",
    "\n",
    "Annotation begins with the top/primary cell types using the model in the 'root/model.pt' file. \n",
    "\n",
    "Deeper levels are then recursively annotated by:\n",
    "\n",
    "1. Filtering to the current annotation \n",
    "2. Looping through sub-directories as next level down\n",
    "3. Loading appropriate model\n",
    "4. Making predictions to annotate\n",
    "5. Repeating on subset for next level\n",
    "\n",
    "This is implemented by the `annotate_levels()` and `annotate_deeper_levels()` functions. It allows fully generalized annotation of hierarchical multi-level structure in single-cell datasets."
   ]
  },
  {
   "cell_type": "markdown",
   "metadata": {},
   "source": [
    "## Usage\n",
    "\n",
    "The scAnnot tool provides a command-line interface (CLI) and an interactive interface (e.g., jupyter notebook) for annotating single cell datasets. Here is an overview of the available commands and their usage:\n",
    "\n",
    "```\n",
    "scAnnot --input <input_file> --reference <reference_file> --model_dir <model_dir> --output <output_file>\n",
    "```\n",
    "\n",
    "- `<input_file>`: Path to the single-cell data file.\n",
    "- `<reference_file>`: Path to the reference dataset file.\n",
    "- `<model_dir>`: Path to the directory containing trained SCANVI models.\n",
    "- `<output_file>`: Path to the output file where annotated data will be saved.\n",
    "\n",
    "### In command line\n",
    "\n",
    "\n",
    "**1. output the table of predicted lables in csv format**\n",
    "\n",
    "```\n",
    "scAnnot human_brain_glial_Fu_2021_PCR/h5/umap.h5ad --output test.csv\n",
    "```\n",
    "**2. output the anndata with predicted lables in h5ad**\n",
    "\n",
    "```\n",
    "scAnnot human_brain_glial_Fu_2021_PCR/h5/umap.h5ad --output test.h5ad\n",
    "```\n",
    "\n",
    "### In jupyter notebook\n",
    "\n",
    "\n",
    "\n",
    "```\n",
    "ad=scAnnot('human_brain_glial_Fu_2021_PCR/h5/umap.h5ad')\n",
    "\n",
    "#show umap from the latent space\n",
    "ad=scAnnot('human_brain_glial_Fu_2021_PCR/h5/umap.h5ad',show=True)\n",
    "```\n",
    "show the UMAP plot:\n",
    "\n"
   ]
  },
  {
   "cell_type": "markdown",
   "metadata": {},
   "source": [
    "## Additional Details\n",
    "\n",
    "- **Supported Data Formats:** scAnnot now only supports data in H5ad format. Ensure that your data is formatted correctly before running the tool.\n",
    "- **Reference Dataset:** To achieve accurate annotation results, it is crucial to provide a reference dataset that closely matches your scRNA-seq data. The reference dataset should contain annotated cells from various cell types.\n",
    "- **pre-trained scANVI models:** The models are trained on the reference dataset for each level cell types and saved in a directory structure matching the annotation hierarchy.\n",
    "- **Output Formats:** The tool saves the annotated data in various formats, depending on the output name. By default, CSV format is used for output files, but you can specify other formats such as TXT or H5ad if desired."
   ]
  },
  {
   "cell_type": "markdown",
   "metadata": {},
   "source": [
    "Let me know if you have any other questions!"
   ]
  },
  {
   "cell_type": "code",
   "execution_count": null,
   "metadata": {},
   "outputs": [],
   "source": []
  }
 ],
 "metadata": {
  "kernelspec": {
   "display_name": "Python [conda env:sc]",
   "language": "python",
   "name": "conda-env-sc-py"
  },
  "language_info": {
   "codemirror_mode": {
    "name": "ipython",
    "version": 3
   },
   "file_extension": ".py",
   "mimetype": "text/x-python",
   "name": "python",
   "nbconvert_exporter": "python",
   "pygments_lexer": "ipython3",
   "version": "3.9.13"
  }
 },
 "nbformat": 4,
 "nbformat_minor": 4
}
